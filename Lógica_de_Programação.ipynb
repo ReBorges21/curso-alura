{
  "nbformat": 4,
  "nbformat_minor": 0,
  "metadata": {
    "colab": {
      "name": "Lógica de Programação.ipynb",
      "provenance": [],
      "authorship_tag": "ABX9TyP7Q5uiens4k0VLRbsdZfF+",
      "include_colab_link": true
    },
    "kernelspec": {
      "name": "python3",
      "display_name": "Python 3"
    },
    "language_info": {
      "name": "python"
    }
  },
  "cells": [
    {
      "cell_type": "markdown",
      "metadata": {
        "id": "view-in-github",
        "colab_type": "text"
      },
      "source": [
        "<a href=\"https://colab.research.google.com/github/ReBorges21/curso-alura/blob/main/L%C3%B3gica_de_Programa%C3%A7%C3%A3o.ipynb\" target=\"_parent\"><img src=\"https://colab.research.google.com/assets/colab-badge.svg\" alt=\"Open In Colab\"/></a>"
      ]
    },
    {
      "cell_type": "markdown",
      "metadata": {
        "id": "gSkSq2mxVCWX"
      },
      "source": [
        "## Lógica de Programação com Python"
      ]
    },
    {
      "cell_type": "code",
      "metadata": {
        "colab": {
          "base_uri": "https://localhost:8080/"
        },
        "id": "SlKF0-DzMm8K",
        "outputId": "92a5a93b-a2a4-4a8a-d659-a984a0506952"
      },
      "source": [
        "1+1"
      ],
      "execution_count": null,
      "outputs": [
        {
          "output_type": "execute_result",
          "data": {
            "text/plain": [
              "2"
            ]
          },
          "metadata": {},
          "execution_count": 14
        }
      ]
    },
    {
      "cell_type": "code",
      "metadata": {
        "colab": {
          "base_uri": "https://localhost:8080/",
          "height": 37
        },
        "id": "h0PnVumLWKra",
        "outputId": "d77843d9-08f2-4ee9-d44f-34545b9dcf4f"
      },
      "source": [
        "nome = 'Re Borges'\n",
        "\n",
        "nome"
      ],
      "execution_count": null,
      "outputs": [
        {
          "output_type": "execute_result",
          "data": {
            "application/vnd.google.colaboratory.intrinsic+json": {
              "type": "string"
            },
            "text/plain": [
              "'Re Borges'"
            ]
          },
          "metadata": {},
          "execution_count": 16
        }
      ]
    },
    {
      "cell_type": "code",
      "metadata": {
        "colab": {
          "base_uri": "https://localhost:8080/"
        },
        "id": "Qoiq8Rkla8H_",
        "outputId": "05ab1cd5-69c1-4306-8b16-3c0b25be2dc3"
      },
      "source": [
        "idade = 60\n",
        "idade"
      ],
      "execution_count": null,
      "outputs": [
        {
          "output_type": "execute_result",
          "data": {
            "text/plain": [
              "60"
            ]
          },
          "metadata": {},
          "execution_count": 17
        }
      ]
    },
    {
      "cell_type": "code",
      "metadata": {
        "colab": {
          "base_uri": "https://localhost:8080/"
        },
        "id": "CzppT33Na_8U",
        "outputId": "2525d8e9-88f8-4d88-f966-d45ec075ae28"
      },
      "source": [
        "print(f'o nome é {nome} e a sua idade é {idade} anos')\n",
        "      "
      ],
      "execution_count": null,
      "outputs": [
        {
          "output_type": "stream",
          "name": "stdout",
          "text": [
            "o nome é Re Borges e a sua idade é 60 anos\n"
          ]
        }
      ]
    },
    {
      "cell_type": "code",
      "metadata": {
        "colab": {
          "base_uri": "https://localhost:8080/"
        },
        "id": "nW4oiQiebjI8",
        "outputId": "818ebe8a-109a-40d3-90a6-7fee9ec60839"
      },
      "source": [
        "idade = 61\n",
        "print(f'o nome é {nome} e a sua idade é {idade} anos')"
      ],
      "execution_count": null,
      "outputs": [
        {
          "output_type": "stream",
          "name": "stdout",
          "text": [
            "o nome é Re Borges e a sua idade é 61 anos\n"
          ]
        }
      ]
    },
    {
      "cell_type": "code",
      "metadata": {
        "id": "2iX-lqRBbu2r"
      },
      "source": [
        ""
      ],
      "execution_count": null,
      "outputs": []
    },
    {
      "cell_type": "markdown",
      "metadata": {
        "id": "xEEhclYhcXNa"
      },
      "source": [
        "# Criando minha primeira função"
      ]
    },
    {
      "cell_type": "code",
      "metadata": {
        "id": "vy_e0hh6gOcS"
      },
      "source": [
        "def saudacao():\n",
        "  nome = input('Qual o seu nome?')\n",
        "  print(f'Olá {nome}')"
      ],
      "execution_count": null,
      "outputs": []
    },
    {
      "cell_type": "code",
      "metadata": {
        "colab": {
          "base_uri": "https://localhost:8080/"
        },
        "id": "vChyekalgqeX",
        "outputId": "3f14c21a-d9cb-45fd-d0f1-c6e58026d4e0"
      },
      "source": [
        "saudacao()"
      ],
      "execution_count": null,
      "outputs": [
        {
          "output_type": "stream",
          "name": "stdout",
          "text": [
            "Qual o seu nome?Re Borges\n",
            "Olá Re Borges\n"
          ]
        }
      ]
    },
    {
      "cell_type": "code",
      "metadata": {
        "colab": {
          "base_uri": "https://localhost:8080/"
        },
        "id": "qqTWiwRkgu31",
        "outputId": "d12cedf8-43be-47e0-862e-3306b13cca90"
      },
      "source": [
        "def nome_completo():\n",
        " primeiro_nome = input('Qual seu primeiro nome? ')\n",
        " sobrenome = input('Qual seu sobrenome? ')\n",
        " nome_inteiro = primeiro_nome + ' ' + sobrenome\n",
        " print(nome_inteiro)\n",
        "\n",
        "nome_completo()"
      ],
      "execution_count": null,
      "outputs": [
        {
          "output_type": "stream",
          "name": "stdout",
          "text": [
            "Qual seu primeiro nome? Rezivalda\n",
            "Qual seu sobrenome? Borges\n",
            "Rezivalda Borges\n"
          ]
        }
      ]
    },
    {
      "cell_type": "markdown",
      "metadata": {
        "id": "FSBB_AgbLa78"
      },
      "source": [
        ""
      ]
    },
    {
      "cell_type": "markdown",
      "metadata": {
        "id": "IFDsAVUznzwV"
      },
      "source": [
        "# Parametros\n",
        "\n"
      ]
    },
    {
      "cell_type": "code",
      "metadata": {
        "id": "mRmVXLhLoHhW"
      },
      "source": [
        "nome = 'Re Borges'"
      ],
      "execution_count": null,
      "outputs": []
    },
    {
      "cell_type": "code",
      "metadata": {
        "id": "MeJuAQlWoUJ5"
      },
      "source": [
        "def saudacao_com_parametros(nome_da_pessoa):\n",
        "  print(f'Olá {nome_da_pessoa}')"
      ],
      "execution_count": null,
      "outputs": []
    },
    {
      "cell_type": "code",
      "metadata": {
        "colab": {
          "base_uri": "https://localhost:8080/"
        },
        "id": "N6g3NDLQpLCH",
        "outputId": "da8c7944-d3a8-487f-e324-5d2f8261c29d"
      },
      "source": [
        "saudacao_com_parametros(nome)"
      ],
      "execution_count": null,
      "outputs": [
        {
          "output_type": "stream",
          "name": "stdout",
          "text": [
            "Olá Re Borges\n"
          ]
        }
      ]
    },
    {
      "cell_type": "code",
      "metadata": {
        "id": "D6cNhZJ8psIH"
      },
      "source": [
        ""
      ],
      "execution_count": null,
      "outputs": []
    },
    {
      "cell_type": "markdown",
      "metadata": {
        "id": "Galqij9XvBHQ"
      },
      "source": [
        "# Condicional"
      ]
    },
    {
      "cell_type": "code",
      "metadata": {
        "colab": {
          "base_uri": "https://localhost:8080/"
        },
        "id": "tmwXXf7qvHNs",
        "outputId": "a55904dd-05da-4709-8a88-dc3c5ab1f1c8"
      },
      "source": [
        "idade = 10\n",
        "\n",
        "def verica_se_pode_dirigir(idade):\n",
        "  if idade >= 18:\n",
        "   print('Tem permissão para dirigir')\n",
        "  else:\n",
        "    print('Não tem permissão para dirigir')\n",
        "verica_se_pode_dirigir(idade)\n"
      ],
      "execution_count": null,
      "outputs": [
        {
          "output_type": "stream",
          "name": "stdout",
          "text": [
            "Não tem permissão para dirigir\n"
          ]
        }
      ]
    },
    {
      "cell_type": "code",
      "metadata": {
        "id": "ZDVY2zhXvL2a"
      },
      "source": [
        ""
      ],
      "execution_count": null,
      "outputs": []
    },
    {
      "cell_type": "markdown",
      "metadata": {
        "id": "AxnoeMTLLeWT"
      },
      "source": [
        "# Convertendo tipo para inteiro"
      ]
    },
    {
      "cell_type": "code",
      "metadata": {
        "colab": {
          "base_uri": "https://localhost:8080/"
        },
        "id": "duMZ7eQaMSvq",
        "outputId": "22cc379d-8d85-464f-dbb1-3e6ea32797cd"
      },
      "source": [
        "def verifica_se_pode_dirigir_sem_parametros():\n",
        "  idade = input('Qual sua idade?')\n",
        "  idade = int(idade)\n",
        "  if idade >= 18:\n",
        "    print('tem permissão para dirigir')\n",
        "  else:\n",
        "    print('Não tem permissão para dirigir')\n",
        "verifica_se_pode_dirigir_sem_parametros()"
      ],
      "execution_count": 2,
      "outputs": [
        {
          "output_type": "stream",
          "name": "stdout",
          "text": [
            "Qual sua idade?21\n",
            "tem permissão para dirigir\n"
          ]
        }
      ]
    },
    {
      "cell_type": "code",
      "metadata": {
        "id": "DjrmPy8UOum1"
      },
      "source": [
        ""
      ],
      "execution_count": null,
      "outputs": []
    }
  ]
}